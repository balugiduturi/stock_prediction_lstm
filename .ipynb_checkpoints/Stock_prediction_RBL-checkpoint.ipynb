{
 "cells": [
  {
   "cell_type": "code",
   "execution_count": 1,
   "metadata": {},
   "outputs": [],
   "source": [
    "import pandas as pd\n",
    "import matplotlib.pyplot as plt\n",
    "import numpy as np"
   ]
  },
  {
   "cell_type": "code",
   "execution_count": 2,
   "metadata": {},
   "outputs": [],
   "source": [
    "df=pd.read_csv('INDUSINDBK.BO.csv')"
   ]
  },
  {
   "cell_type": "code",
   "execution_count": 3,
   "metadata": {},
   "outputs": [
    {
     "data": {
      "text/html": [
       "<div>\n",
       "<style scoped>\n",
       "    .dataframe tbody tr th:only-of-type {\n",
       "        vertical-align: middle;\n",
       "    }\n",
       "\n",
       "    .dataframe tbody tr th {\n",
       "        vertical-align: top;\n",
       "    }\n",
       "\n",
       "    .dataframe thead th {\n",
       "        text-align: right;\n",
       "    }\n",
       "</style>\n",
       "<table border=\"1\" class=\"dataframe\">\n",
       "  <thead>\n",
       "    <tr style=\"text-align: right;\">\n",
       "      <th></th>\n",
       "      <th>Date</th>\n",
       "      <th>Open</th>\n",
       "      <th>High</th>\n",
       "      <th>Low</th>\n",
       "      <th>Close</th>\n",
       "      <th>Adj Close</th>\n",
       "      <th>Volume</th>\n",
       "    </tr>\n",
       "  </thead>\n",
       "  <tbody>\n",
       "    <tr>\n",
       "      <th>0</th>\n",
       "      <td>2002-01-14</td>\n",
       "      <td>10.15</td>\n",
       "      <td>10.35</td>\n",
       "      <td>10.15</td>\n",
       "      <td>10.30</td>\n",
       "      <td>7.528677</td>\n",
       "      <td>8600.0</td>\n",
       "    </tr>\n",
       "    <tr>\n",
       "      <th>1</th>\n",
       "      <td>2002-01-15</td>\n",
       "      <td>10.30</td>\n",
       "      <td>10.30</td>\n",
       "      <td>10.20</td>\n",
       "      <td>10.25</td>\n",
       "      <td>7.492130</td>\n",
       "      <td>5360.0</td>\n",
       "    </tr>\n",
       "    <tr>\n",
       "      <th>2</th>\n",
       "      <td>2002-01-16</td>\n",
       "      <td>10.30</td>\n",
       "      <td>10.35</td>\n",
       "      <td>10.20</td>\n",
       "      <td>10.35</td>\n",
       "      <td>7.565224</td>\n",
       "      <td>1190.0</td>\n",
       "    </tr>\n",
       "    <tr>\n",
       "      <th>3</th>\n",
       "      <td>2002-01-17</td>\n",
       "      <td>10.25</td>\n",
       "      <td>10.40</td>\n",
       "      <td>10.15</td>\n",
       "      <td>10.20</td>\n",
       "      <td>7.455584</td>\n",
       "      <td>6165.0</td>\n",
       "    </tr>\n",
       "    <tr>\n",
       "      <th>4</th>\n",
       "      <td>2002-01-18</td>\n",
       "      <td>10.50</td>\n",
       "      <td>10.50</td>\n",
       "      <td>10.05</td>\n",
       "      <td>10.35</td>\n",
       "      <td>7.565224</td>\n",
       "      <td>9861.0</td>\n",
       "    </tr>\n",
       "  </tbody>\n",
       "</table>\n",
       "</div>"
      ],
      "text/plain": [
       "         Date   Open   High    Low  Close  Adj Close  Volume\n",
       "0  2002-01-14  10.15  10.35  10.15  10.30   7.528677  8600.0\n",
       "1  2002-01-15  10.30  10.30  10.20  10.25   7.492130  5360.0\n",
       "2  2002-01-16  10.30  10.35  10.20  10.35   7.565224  1190.0\n",
       "3  2002-01-17  10.25  10.40  10.15  10.20   7.455584  6165.0\n",
       "4  2002-01-18  10.50  10.50  10.05  10.35   7.565224  9861.0"
      ]
     },
     "execution_count": 3,
     "metadata": {},
     "output_type": "execute_result"
    }
   ],
   "source": [
    "df.head()"
   ]
  },
  {
   "cell_type": "code",
   "execution_count": 5,
   "metadata": {},
   "outputs": [],
   "source": [
    "df1 = df.reset_index()['High']"
   ]
  },
  {
   "cell_type": "code",
   "execution_count": 32,
   "metadata": {},
   "outputs": [],
   "source": [
    "df2 = df.reset_index()['High']"
   ]
  },
  {
   "cell_type": "code",
   "execution_count": 33,
   "metadata": {},
   "outputs": [
    {
     "data": {
      "text/plain": [
       "0    10.35\n",
       "1    10.30\n",
       "2    10.35\n",
       "3    10.40\n",
       "4    10.50\n",
       "Name: High, dtype: float64"
      ]
     },
     "execution_count": 33,
     "metadata": {},
     "output_type": "execute_result"
    }
   ],
   "source": [
    "df2.head()"
   ]
  },
  {
   "cell_type": "code",
   "execution_count": 35,
   "metadata": {},
   "outputs": [
    {
     "data": {
      "text/plain": [
       "49"
      ]
     },
     "execution_count": 35,
     "metadata": {},
     "output_type": "execute_result"
    }
   ],
   "source": [
    "df2.isnull().sum()"
   ]
  },
  {
   "cell_type": "code",
   "execution_count": 36,
   "metadata": {},
   "outputs": [],
   "source": [
    "# making new data frame with dropped NA values \n",
    "df2 = df2.dropna(axis = 0, how ='any') "
   ]
  },
  {
   "cell_type": "code",
   "execution_count": 38,
   "metadata": {},
   "outputs": [
    {
     "data": {
      "text/plain": [
       "0"
      ]
     },
     "execution_count": 38,
     "metadata": {},
     "output_type": "execute_result"
    }
   ],
   "source": [
    "df2.isnull().sum()"
   ]
  },
  {
   "cell_type": "code",
   "execution_count": 65,
   "metadata": {},
   "outputs": [],
   "source": [
    "df1 = df2"
   ]
  },
  {
   "cell_type": "code",
   "execution_count": 66,
   "metadata": {},
   "outputs": [
    {
     "data": {
      "text/plain": [
       "0    10.35\n",
       "1    10.30\n",
       "2    10.35\n",
       "3    10.40\n",
       "4    10.50\n",
       "Name: High, dtype: float64"
      ]
     },
     "execution_count": 66,
     "metadata": {},
     "output_type": "execute_result"
    }
   ],
   "source": [
    "df1.head()"
   ]
  },
  {
   "cell_type": "code",
   "execution_count": 67,
   "metadata": {},
   "outputs": [
    {
     "data": {
      "text/plain": [
       "(4558,)"
      ]
     },
     "execution_count": 67,
     "metadata": {},
     "output_type": "execute_result"
    }
   ],
   "source": [
    "df1.shape"
   ]
  },
  {
   "cell_type": "code",
   "execution_count": 68,
   "metadata": {},
   "outputs": [
    {
     "data": {
      "text/plain": [
       "[<matplotlib.lines.Line2D at 0x1609a5a2088>]"
      ]
     },
     "execution_count": 68,
     "metadata": {},
     "output_type": "execute_result"
    },
    {
     "data": {
      "image/png": "[encoded data removed]",
      "text/plain": [
       "<Figure size 432x288 with 1 Axes>"
      ]
     },
     "metadata": {
      "needs_background": "light"
     },
     "output_type": "display_data"
    }
   ],
   "source": [
    "plt.plot(df1)"
   ]
  },
  {
   "cell_type": "code",
   "execution_count": 69,
   "metadata": {},
   "outputs": [],
   "source": [
    "# LSTM are sensitive to the scale of the data. so we are applying MinMax scaler\n",
    "from sklearn.preprocessing import MinMaxScaler\n",
    "scaler=MinMaxScaler(feature_range=(0, 1))\n",
    "df1=scaler.fit_transform(np.array(df1).reshape(-1,1))"
   ]
  },
  {
   "cell_type": "code",
   "execution_count": 70,
   "metadata": {},
   "outputs": [
    {
     "data": {
      "text/plain": [
       "array([[2.46596959e-05],\n",
       "       [0.00000000e+00],\n",
       "       [2.46596959e-05],\n",
       "       ...,\n",
       "       [2.56214234e-01],\n",
       "       [2.79887543e-01],\n",
       "       [2.76040636e-01]])"
      ]
     },
     "execution_count": 70,
     "metadata": {},
     "output_type": "execute_result"
    }
   ],
   "source": [
    "df1"
   ]
  },
  {
   "cell_type": "code",
   "execution_count": 71,
   "metadata": {},
   "outputs": [],
   "source": [
    "##splitting dataset into train and test split\n",
    "training_size=int(len(df1)*0.65)\n",
    "test_size=len(df1)-training_size\n",
    "train_data,test_data=df1[0:training_size,:],df1[training_size:len(df1),:1]"
   ]
  },
  {
   "cell_type": "code",
   "execution_count": 72,
   "metadata": {},
   "outputs": [
    {
     "data": {
      "text/plain": [
       "(2962, 1596)"
      ]
     },
     "execution_count": 72,
     "metadata": {},
     "output_type": "execute_result"
    }
   ],
   "source": [
    "training_size,test_size"
   ]
  },
  {
   "cell_type": "code",
   "execution_count": 73,
   "metadata": {},
   "outputs": [
    {
     "data": {
      "text/plain": [
       "array([[2.46596959e-05],\n",
       "       [0.00000000e+00],\n",
       "       [2.46596959e-05],\n",
       "       ...,\n",
       "       [1.99842176e-01],\n",
       "       [2.00581966e-01],\n",
       "       [2.02752017e-01]])"
      ]
     },
     "execution_count": 73,
     "metadata": {},
     "output_type": "execute_result"
    }
   ],
   "source": [
    "train_data"
   ]
  },
  {
   "cell_type": "code",
   "execution_count": 74,
   "metadata": {},
   "outputs": [],
   "source": [
    "import numpy\n",
    "# convert an array of values into a dataset matrix\n",
    "def create_dataset(dataset, time_step=1):\n",
    "\tdataX, dataY = [], []\n",
    "\tfor i in range(len(dataset)-time_step-1):\n",
    "\t\ta = dataset[i:(i+time_step), 0]   ###i=0, 0,1,2,3-----99   100 \n",
    "\t\tdataX.append(a)\n",
    "\t\tdataY.append(dataset[i + time_step, 0])\n",
    "\treturn numpy.array(dataX), numpy.array(dataY)"
   ]
  },
  {
   "cell_type": "code",
   "execution_count": 75,
   "metadata": {},
   "outputs": [],
   "source": [
    "# reshape into X=t, t+1, t+2, t+3 and Y = t+4\n",
    "time_step = 250\n",
    "X_train, y_train = create_dataset(train_data, time_step)\n",
    "X_test, y_test = create_dataset(test_data, time_step)"
   ]
  },
  {
   "cell_type": "code",
   "execution_count": 76,
   "metadata": {},
   "outputs": [
    {
     "data": {
      "text/plain": [
       "(2811, 150)"
      ]
     },
     "execution_count": 76,
     "metadata": {},
     "output_type": "execute_result"
    }
   ],
   "source": [
    "X_train.shape"
   ]
  },
  {
   "cell_type": "code",
   "execution_count": 77,
   "metadata": {},
   "outputs": [
    {
     "name": "stdout",
     "output_type": "stream",
     "text": [
      "(1445, 150)\n",
      "(1445,)\n"
     ]
    },
    {
     "data": {
      "text/plain": [
       "(None, None)"
      ]
     },
     "execution_count": 77,
     "metadata": {},
     "output_type": "execute_result"
    }
   ],
   "source": [
    "print(X_test.shape), print(y_test.shape)"
   ]
  },
  {
   "cell_type": "code",
   "execution_count": 78,
   "metadata": {},
   "outputs": [],
   "source": [
    "# Reshape input to be [sample, time steps, features] which is required for LSTM\n",
    "X_train = X_train.reshape(X_train.shape[0], X_train.shape[1], 1)\n",
    "X_test = X_test.reshape(X_test.shape[0], X_test.shape[1], 1)"
   ]
  },
  {
   "cell_type": "code",
   "execution_count": 54,
   "metadata": {},
   "outputs": [],
   "source": [
    "### Create the Stacked LSTM model\n",
    "from tensorflow.keras.models import Sequential\n",
    "from tensorflow.keras.layers import Dense\n",
    "from tensorflow.keras.layers import LSTM"
   ]
  },
  {
   "cell_type": "code",
   "execution_count": 80,
   "metadata": {},
   "outputs": [],
   "source": [
    "model=Sequential()\n",
    "model.add(LSTM(50,return_sequences=True,input_shape=(time_step,1)))\n",
    "model.add(LSTM(50,return_sequences=True))\n",
    "model.add(LSTM(50))\n",
    "model.add(Dense(1))\n",
    "model.compile(loss='mean_squared_error',optimizer='adam')"
   ]
  },
  {
   "cell_type": "code",
   "execution_count": 81,
   "metadata": {},
   "outputs": [
    {
     "name": "stdout",
     "output_type": "stream",
     "text": [
      "Model: \"sequential_4\"\n",
      "_________________________________________________________________\n",
      "Layer (type)                 Output Shape              Param #   \n",
      "=================================================================\n",
      "lstm_12 (LSTM)               (None, 150, 50)           10400     \n",
      "_________________________________________________________________\n",
      "lstm_13 (LSTM)               (None, 150, 50)           20200     \n",
      "_________________________________________________________________\n",
      "lstm_14 (LSTM)               (None, 50)                20200     \n",
      "_________________________________________________________________\n",
      "dense_4 (Dense)              (None, 1)                 51        \n",
      "=================================================================\n",
      "Total params: 50,851\n",
      "Trainable params: 50,851\n",
      "Non-trainable params: 0\n",
      "_________________________________________________________________\n"
     ]
    }
   ],
   "source": [
    "model.summary()"
   ]
  },
  {
   "cell_type": "code",
   "execution_count": 82,
   "metadata": {},
   "outputs": [
    {
     "name": "stdout",
     "output_type": "stream",
     "text": [
      "Train on 2811 samples, validate on 1445 samples\n",
      "Epoch 1/50\n",
      "2811/2811 [==============================] - 20s 7ms/sample - loss: 6.0787e-04 - val_loss: 0.0055\n",
      "Epoch 2/50\n",
      "2811/2811 [==============================] - 15s 5ms/sample - loss: 4.1598e-05 - val_loss: 0.0126\n",
      "Epoch 3/50\n",
      "2811/2811 [==============================] - 15s 5ms/sample - loss: 3.9331e-05 - val_loss: 0.0089\n",
      "Epoch 4/50\n",
      "2811/2811 [==============================] - 15s 5ms/sample - loss: 3.7874e-05 - val_loss: 0.0074\n",
      "Epoch 5/50\n",
      "2811/2811 [==============================] - 15s 5ms/sample - loss: 3.5231e-05 - val_loss: 0.0097\n",
      "Epoch 6/50\n",
      "2811/2811 [==============================] - 15s 5ms/sample - loss: 3.7002e-05 - val_loss: 0.0077\n",
      "Epoch 7/50\n",
      "2811/2811 [==============================] - 15s 5ms/sample - loss: 3.4563e-05 - val_loss: 0.0075\n",
      "Epoch 8/50\n",
      "2811/2811 [==============================] - 15s 5ms/sample - loss: 3.1279e-05 - val_loss: 0.0059\n",
      "Epoch 9/50\n",
      "2811/2811 [==============================] - 15s 5ms/sample - loss: 2.9833e-05 - val_loss: 0.0086\n",
      "Epoch 10/50\n",
      "2811/2811 [==============================] - 15s 5ms/sample - loss: 2.6774e-05 - val_loss: 0.0070\n",
      "Epoch 11/50\n",
      "2811/2811 [==============================] - 15s 5ms/sample - loss: 2.8359e-05 - val_loss: 0.0048\n",
      "Epoch 12/50\n",
      "2811/2811 [==============================] - 15s 5ms/sample - loss: 3.1856e-05 - val_loss: 0.0051\n",
      "Epoch 13/50\n",
      "2811/2811 [==============================] - 15s 5ms/sample - loss: 2.5125e-05 - val_loss: 0.0042\n",
      "Epoch 14/50\n",
      "2811/2811 [==============================] - 15s 5ms/sample - loss: 2.3061e-05 - val_loss: 0.0041\n",
      "Epoch 15/50\n",
      "2811/2811 [==============================] - 15s 5ms/sample - loss: 2.3754e-05 - val_loss: 0.0068\n",
      "Epoch 16/50\n",
      "2811/2811 [==============================] - 16s 6ms/sample - loss: 1.9721e-05 - val_loss: 0.0040\n",
      "Epoch 17/50\n",
      "2811/2811 [==============================] - 15s 6ms/sample - loss: 2.1459e-05 - val_loss: 0.0058\n",
      "Epoch 18/50\n",
      "2811/2811 [==============================] - 15s 5ms/sample - loss: 1.8781e-05 - val_loss: 0.0047\n",
      "Epoch 19/50\n",
      "2811/2811 [==============================] - 15s 5ms/sample - loss: 2.1104e-05 - val_loss: 0.0057\n",
      "Epoch 20/50\n",
      "2811/2811 [==============================] - 15s 5ms/sample - loss: 2.1530e-05 - val_loss: 0.0022\n",
      "Epoch 21/50\n",
      "2811/2811 [==============================] - 15s 5ms/sample - loss: 1.8000e-05 - val_loss: 0.0028\n",
      "Epoch 22/50\n",
      "2811/2811 [==============================] - 15s 5ms/sample - loss: 1.8041e-05 - val_loss: 0.0013\n",
      "Epoch 23/50\n",
      "2811/2811 [==============================] - 15s 5ms/sample - loss: 1.6275e-05 - val_loss: 0.0026\n",
      "Epoch 24/50\n",
      "2811/2811 [==============================] - 15s 5ms/sample - loss: 1.4939e-05 - val_loss: 0.0018\n",
      "Epoch 25/50\n",
      "2811/2811 [==============================] - 15s 5ms/sample - loss: 1.3981e-05 - val_loss: 0.0037\n",
      "Epoch 26/50\n",
      "2811/2811 [==============================] - 15s 5ms/sample - loss: 1.6300e-05 - val_loss: 0.0024\n",
      "Epoch 27/50\n",
      "2811/2811 [==============================] - 15s 5ms/sample - loss: 1.4955e-05 - val_loss: 0.0017\n",
      "Epoch 28/50\n",
      "2811/2811 [==============================] - 15s 5ms/sample - loss: 1.5285e-05 - val_loss: 0.0029\n",
      "Epoch 29/50\n",
      "2811/2811 [==============================] - 15s 5ms/sample - loss: 1.4676e-05 - val_loss: 0.0048\n",
      "Epoch 30/50\n",
      "2811/2811 [==============================] - 15s 5ms/sample - loss: 1.4475e-05 - val_loss: 0.0026\n",
      "Epoch 31/50\n",
      "2811/2811 [==============================] - 15s 5ms/sample - loss: 1.9949e-05 - val_loss: 6.4929e-04\n",
      "Epoch 32/50\n",
      "2811/2811 [==============================] - 15s 5ms/sample - loss: 1.5042e-05 - val_loss: 0.0020\n",
      "Epoch 33/50\n",
      "2811/2811 [==============================] - 15s 5ms/sample - loss: 1.2593e-05 - val_loss: 0.0010\n",
      "Epoch 34/50\n",
      "2811/2811 [==============================] - 15s 5ms/sample - loss: 1.3895e-05 - val_loss: 0.0032\n",
      "Epoch 35/50\n",
      "2811/2811 [==============================] - 15s 5ms/sample - loss: 1.4077e-05 - val_loss: 0.0019\n",
      "Epoch 36/50\n",
      "2811/2811 [==============================] - 15s 5ms/sample - loss: 1.1251e-05 - val_loss: 0.0020\n",
      "Epoch 37/50\n",
      "2811/2811 [==============================] - 15s 5ms/sample - loss: 1.0885e-05 - val_loss: 0.0018\n",
      "Epoch 38/50\n",
      "2811/2811 [==============================] - 15s 5ms/sample - loss: 1.4625e-05 - val_loss: 0.0020\n",
      "Epoch 39/50\n",
      "2811/2811 [==============================] - 15s 5ms/sample - loss: 1.0659e-05 - val_loss: 0.0019\n",
      "Epoch 40/50\n",
      "2811/2811 [==============================] - 15s 5ms/sample - loss: 9.9530e-06 - val_loss: 8.8126e-04\n",
      "Epoch 41/50\n",
      "2811/2811 [==============================] - 15s 5ms/sample - loss: 1.1785e-05 - val_loss: 0.0017\n",
      "Epoch 42/50\n",
      "2811/2811 [==============================] - 15s 5ms/sample - loss: 1.0957e-05 - val_loss: 0.0023\n",
      "Epoch 43/50\n",
      "2811/2811 [==============================] - 15s 5ms/sample - loss: 8.4570e-06 - val_loss: 0.0015\n",
      "Epoch 44/50\n",
      "2811/2811 [==============================] - 15s 5ms/sample - loss: 1.0597e-05 - val_loss: 0.0028\n",
      "Epoch 45/50\n",
      "2811/2811 [==============================] - 15s 5ms/sample - loss: 1.0005e-05 - val_loss: 0.0027\n",
      "Epoch 46/50\n",
      "2811/2811 [==============================] - 15s 5ms/sample - loss: 8.2754e-06 - val_loss: 0.0026\n",
      "Epoch 47/50\n",
      "2811/2811 [==============================] - 15s 5ms/sample - loss: 1.0862e-05 - val_loss: 0.0025\n",
      "Epoch 48/50\n",
      "2811/2811 [==============================] - 15s 5ms/sample - loss: 1.1020e-05 - val_loss: 0.0021\n",
      "Epoch 49/50\n",
      "2811/2811 [==============================] - 15s 5ms/sample - loss: 8.9536e-06 - val_loss: 0.0013\n",
      "Epoch 50/50\n",
      "2811/2811 [==============================] - 15s 5ms/sample - loss: 9.4683e-06 - val_loss: 0.0023\n"
     ]
    },
    {
     "data": {
      "text/plain": [
       "<tensorflow.python.keras.callbacks.History at 0x1609cc9d808>"
      ]
     },
     "execution_count": 82,
     "metadata": {},
     "output_type": "execute_result"
    }
   ],
   "source": [
    "model.fit(X_train,y_train,validation_data=(X_test,y_test),epochs=50,batch_size=32,verbose=1)"
   ]
  },
  {
   "cell_type": "code",
   "execution_count": 83,
   "metadata": {},
   "outputs": [],
   "source": [
    "### Lets Do the prediction and check performance metrics\n",
    "train_predict=model.predict(X_train)\n",
    "test_predict=model.predict(X_test)"
   ]
  },
  {
   "cell_type": "code",
   "execution_count": 84,
   "metadata": {},
   "outputs": [],
   "source": [
    "##Transformback to original form\n",
    "train_predict=scaler.inverse_transform(train_predict)\n",
    "test_predict=scaler.inverse_transform(test_predict)"
   ]
  },
  {
   "cell_type": "code",
   "execution_count": 85,
   "metadata": {},
   "outputs": [
    {
     "data": {
      "text/plain": [
       "197.85502816212647"
      ]
     },
     "execution_count": 85,
     "metadata": {},
     "output_type": "execute_result"
    }
   ],
   "source": [
    "### Calculate RMSE performance metrics\n",
    "import math\n",
    "from sklearn.metrics import mean_squared_error\n",
    "math.sqrt(mean_squared_error(y_train,train_predict))"
   ]
  },
  {
   "cell_type": "code",
   "execution_count": 86,
   "metadata": {},
   "outputs": [
    {
     "data": {
      "text/plain": [
       "1243.1162449027029"
      ]
     },
     "execution_count": 86,
     "metadata": {},
     "output_type": "execute_result"
    }
   ],
   "source": [
    "### Test Data RMSE\n",
    "math.sqrt(mean_squared_error(y_test,test_predict))"
   ]
  },
  {
   "cell_type": "code",
   "execution_count": 87,
   "metadata": {},
   "outputs": [
    {
     "data": {
      "image/png": "[encoded data removed]",
      "text/plain": [
       "<Figure size 432x288 with 1 Axes>"
      ]
     },
     "metadata": {
      "needs_background": "light"
     },
     "output_type": "display_data"
    }
   ],
   "source": [
    "### Plotting \n",
    "# shift train predictions for plotting\n",
    "# look_back=100\n",
    "look_back = time_step\n",
    "trainPredictPlot = numpy.empty_like(df1)\n",
    "trainPredictPlot[:, :] = np.nan\n",
    "trainPredictPlot[look_back:len(train_predict)+look_back, :] = train_predict\n",
    "# shift test predictions for plotting\n",
    "testPredictPlot = numpy.empty_like(df1)\n",
    "testPredictPlot[:, :] = numpy.nan\n",
    "testPredictPlot[len(train_predict)+(look_back*2)+1:len(df1)-1, :] = test_predict\n",
    "# plot baseline and predictions\n",
    "plt.plot(scaler.inverse_transform(df1))\n",
    "plt.plot(trainPredictPlot)\n",
    "plt.plot(testPredictPlot)\n",
    "plt.show()"
   ]
  },
  {
   "cell_type": "code",
   "execution_count": null,
   "metadata": {},
   "outputs": [],
   "source": []
  }
 ],
 "metadata": {
  "kernelspec": {
   "display_name": "Python 3",
   "language": "python",
   "name": "python3"
  },
  "language_info": {
   "codemirror_mode": {
    "name": "ipython",
    "version": 3
   },
   "file_extension": ".py",
   "mimetype": "text/x-python",
   "name": "python",
   "nbconvert_exporter": "python",
   "pygments_lexer": "ipython3",
   "version": "3.7.7"
  }
 },
 "nbformat": 4,
 "nbformat_minor": 4
}
